{
 "cells": [
  {
   "cell_type": "markdown",
   "id": "150c29a9",
   "metadata": {},
   "source": [
    "<h1 id=\"tfmain\"><b><font color=\"#FF9300\">Tensorflow Basics</font></b></h1>\n",
    "<br><b><font color=\"#093E9B \">Author: Arijit Roy&nbsp;&nbsp;&nbsp;&nbsp;&nbsp;Date: 21 August 2021</font></b>\n",
    "<br><p>Tensor means a n-dimensional datastructure. It is basically a generalization of matrices. For example<br>\n",
    "<ul>\n",
    "    <li>A simple numeric value is called a 0D tensor or scalar. Example - 9, 2.3, 5, etc.</li>\n",
    "    <li>A 1D array is called a 1D tensor or vector. Example - [1, 2, 3, 4, 5]</li>\n",
    "    <li>A 2D array is called a 2D tensor. Example - [[1, 2, 3, 4], [5, 6, 7, 8]]</li>\n",
    "    <li>A 3D array is called a 3D tensor. Example - [[[1, 2, 3, 4], [5, 6, 7, 8]], [[1, 2, 3, 4], [5, 6, 7, 8]]]</li>\n",
    "    <li>A 4D array is called a 4D tensor. Example - Any digital image (samples, channel, height, width)</li>\n",
    "    <li>A 5D array is called a 5D tensor. Example - Any video (samples, frames, channels, height, width)</li>\n",
    "    <li>Like the above examples n-dimensional tensor is possible</li>\n",
    "</ul>\n",
    "<br>Every tensor has 3 attributes</p>\n",
    "<ul>\n",
    "    <li>Name</li>\n",
    "    <li>Shape</li>\n",
    "    <li>Datatype</li>\n",
    "</ul>\n",
    "<br>There are four different types of tensors\n",
    "<ul>\n",
    "    <li>constant</li>\n",
    "    <li>variable</li>\n",
    "    <li>placeholder</li>\n",
    "    <li>sparsetensor</li>\n",
    "</ul>\n",
    "<br>TensorFlow works around 3 main components</p>\n",
    "<ul>\n",
    "    <li><b>Graph:</b> The graph is fundamental in TensorFlow. All of the mathematical operations (ops) are performed inside a graph. You can imagine a graph as a project where every operations are done. The nodes represent these ops, they can absorb or create new tensors.</li>\n",
    "    <li><b>Tensor:</b> It is already described above.</li>\n",
    "    <li><b>Session:</b> A session will execute the operation from the graph. To feed the graph with the values of a tensor, you need to open a session. Inside a session, you must run an operator to create an output.</li>\n",
    "</ul>"
   ]
  },
  {
   "cell_type": "code",
   "execution_count": 1,
   "id": "b5423654",
   "metadata": {},
   "outputs": [
    {
     "name": "stdout",
     "output_type": "stream",
     "text": [
      "Requirement already satisfied: tensorflow in c:\\users\\dcw\\appdata\\roaming\\python\\python38\\site-packages (2.6.0)\n",
      "Requirement already satisfied: numpy~=1.19.2 in c:\\users\\dcw\\appdata\\roaming\\python\\python38\\site-packages (from tensorflow) (1.19.5)\n",
      "Requirement already satisfied: google-pasta~=0.2 in c:\\users\\dcw\\appdata\\roaming\\python\\python38\\site-packages (from tensorflow) (0.2.0)\n",
      "Requirement already satisfied: keras~=2.6 in c:\\programdata\\anaconda3\\lib\\site-packages (from tensorflow) (2.6.0)\n",
      "Requirement already satisfied: h5py~=3.1.0 in c:\\users\\dcw\\appdata\\roaming\\python\\python38\\site-packages (from tensorflow) (3.1.0)\n",
      "Requirement already satisfied: keras-preprocessing~=1.1.2 in c:\\users\\dcw\\appdata\\roaming\\python\\python38\\site-packages (from tensorflow) (1.1.2)\n",
      "Requirement already satisfied: gast==0.4.0 in c:\\users\\dcw\\appdata\\roaming\\python\\python38\\site-packages (from tensorflow) (0.4.0)\n",
      "Requirement already satisfied: tensorboard~=2.6 in c:\\users\\dcw\\appdata\\roaming\\python\\python38\\site-packages (from tensorflow) (2.6.0)\n",
      "Requirement already satisfied: clang~=5.0 in c:\\users\\dcw\\appdata\\roaming\\python\\python38\\site-packages (from tensorflow) (5.0)\n",
      "Requirement already satisfied: wrapt~=1.12.1 in c:\\programdata\\anaconda3\\lib\\site-packages (from tensorflow) (1.12.1)\n",
      "Requirement already satisfied: protobuf>=3.9.2 in c:\\programdata\\anaconda3\\lib\\site-packages (from tensorflow) (3.17.3)\n",
      "Requirement already satisfied: six~=1.15.0 in c:\\programdata\\anaconda3\\lib\\site-packages (from tensorflow) (1.15.0)\n",
      "Requirement already satisfied: wheel~=0.35 in c:\\programdata\\anaconda3\\lib\\site-packages (from tensorflow) (0.36.2)\n",
      "Requirement already satisfied: typing-extensions~=3.7.4 in c:\\programdata\\anaconda3\\lib\\site-packages (from tensorflow) (3.7.4.3)\n",
      "Requirement already satisfied: opt-einsum~=3.3.0 in c:\\users\\dcw\\appdata\\roaming\\python\\python38\\site-packages (from tensorflow) (3.3.0)\n",
      "Requirement already satisfied: termcolor~=1.1.0 in c:\\users\\dcw\\appdata\\roaming\\python\\python38\\site-packages (from tensorflow) (1.1.0)\n",
      "Requirement already satisfied: absl-py~=0.10 in c:\\users\\dcw\\appdata\\roaming\\python\\python38\\site-packages (from tensorflow) (0.13.0)\n",
      "Requirement already satisfied: astunparse~=1.6.3 in c:\\users\\dcw\\appdata\\roaming\\python\\python38\\site-packages (from tensorflow) (1.6.3)\n",
      "Requirement already satisfied: grpcio<2.0,>=1.37.0 in c:\\users\\dcw\\appdata\\roaming\\python\\python38\\site-packages (from tensorflow) (1.39.0)\n",
      "Requirement already satisfied: flatbuffers~=1.12.0 in c:\\users\\dcw\\appdata\\roaming\\python\\python38\\site-packages (from tensorflow) (1.12)\n",
      "Requirement already satisfied: tensorflow-estimator~=2.6 in c:\\users\\dcw\\appdata\\roaming\\python\\python38\\site-packages (from tensorflow) (2.6.0)\n",
      "Requirement already satisfied: werkzeug>=0.11.15 in c:\\programdata\\anaconda3\\lib\\site-packages (from tensorboard~=2.6->tensorflow) (1.0.1)\n",
      "Requirement already satisfied: google-auth-oauthlib<0.5,>=0.4.1 in c:\\users\\dcw\\appdata\\roaming\\python\\python38\\site-packages (from tensorboard~=2.6->tensorflow) (0.4.5)\n",
      "Requirement already satisfied: google-auth<2,>=1.6.3 in c:\\programdata\\anaconda3\\lib\\site-packages (from tensorboard~=2.6->tensorflow) (1.35.0)\n",
      "Requirement already satisfied: requests<3,>=2.21.0 in c:\\programdata\\anaconda3\\lib\\site-packages (from tensorboard~=2.6->tensorflow) (2.25.1)\n",
      "Requirement already satisfied: markdown>=2.6.8 in c:\\users\\dcw\\appdata\\roaming\\python\\python38\\site-packages (from tensorboard~=2.6->tensorflow) (3.3.4)\n",
      "Requirement already satisfied: tensorboard-data-server<0.7.0,>=0.6.0 in c:\\programdata\\anaconda3\\lib\\site-packages (from tensorboard~=2.6->tensorflow) (0.6.1)\n",
      "Requirement already satisfied: tensorboard-plugin-wit>=1.6.0 in c:\\programdata\\anaconda3\\lib\\site-packages (from tensorboard~=2.6->tensorflow) (1.8.0)\n",
      "Requirement already satisfied: setuptools>=41.0.0 in c:\\programdata\\anaconda3\\lib\\site-packages (from tensorboard~=2.6->tensorflow) (52.0.0.post20210125)\n",
      "Requirement already satisfied: cachetools<5.0,>=2.0.0 in c:\\programdata\\anaconda3\\lib\\site-packages (from google-auth<2,>=1.6.3->tensorboard~=2.6->tensorflow) (4.2.2)\n",
      "Requirement already satisfied: rsa<5,>=3.1.4 in c:\\programdata\\anaconda3\\lib\\site-packages (from google-auth<2,>=1.6.3->tensorboard~=2.6->tensorflow) (4.7.2)\n",
      "Requirement already satisfied: pyasn1-modules>=0.2.1 in c:\\programdata\\anaconda3\\lib\\site-packages (from google-auth<2,>=1.6.3->tensorboard~=2.6->tensorflow) (0.2.8)\n",
      "Requirement already satisfied: requests-oauthlib>=0.7.0 in c:\\programdata\\anaconda3\\lib\\site-packages (from google-auth-oauthlib<0.5,>=0.4.1->tensorboard~=2.6->tensorflow) (1.3.0)\n",
      "Requirement already satisfied: pyasn1<0.5.0,>=0.4.6 in c:\\programdata\\anaconda3\\lib\\site-packages (from pyasn1-modules>=0.2.1->google-auth<2,>=1.6.3->tensorboard~=2.6->tensorflow) (0.4.8)\n",
      "Requirement already satisfied: chardet<5,>=3.0.2 in c:\\programdata\\anaconda3\\lib\\site-packages (from requests<3,>=2.21.0->tensorboard~=2.6->tensorflow) (4.0.0)\n",
      "Requirement already satisfied: idna<3,>=2.5 in c:\\programdata\\anaconda3\\lib\\site-packages (from requests<3,>=2.21.0->tensorboard~=2.6->tensorflow) (2.10)\n",
      "Requirement already satisfied: certifi>=2017.4.17 in c:\\programdata\\anaconda3\\lib\\site-packages (from requests<3,>=2.21.0->tensorboard~=2.6->tensorflow) (2020.12.5)\n",
      "Requirement already satisfied: urllib3<1.27,>=1.21.1 in c:\\programdata\\anaconda3\\lib\\site-packages (from requests<3,>=2.21.0->tensorboard~=2.6->tensorflow) (1.26.4)\n",
      "Requirement already satisfied: oauthlib>=3.0.0 in c:\\programdata\\anaconda3\\lib\\site-packages (from requests-oauthlib>=0.7.0->google-auth-oauthlib<0.5,>=0.4.1->tensorboard~=2.6->tensorflow) (3.1.1)\n"
     ]
    }
   ],
   "source": [
    "# install tensorflow with pip\n",
    "! pip install tensorflow"
   ]
  },
  {
   "cell_type": "code",
   "execution_count": 2,
   "id": "f0eb4ed1",
   "metadata": {},
   "outputs": [
    {
     "name": "stdout",
     "output_type": "stream",
     "text": [
      "WARNING:tensorflow:From C:\\Users\\DCW\\AppData\\Roaming\\Python\\Python38\\site-packages\\tensorflow\\python\\compat\\v2_compat.py:101: disable_resource_variables (from tensorflow.python.ops.variable_scope) is deprecated and will be removed in a future version.\n",
      "Instructions for updating:\n",
      "non-resource variables are not supported in the long term\n"
     ]
    }
   ],
   "source": [
    "# constant tensor operations in tensorflow (there is fixed value of tensor)\n",
    "\n",
    "import tensorflow.compat.v1 as tf\n",
    "tf.disable_eager_execution()\n",
    "tf.disable_v2_behavior()\n",
    "node1 = tf.constant(2.5, dtype = tf.float64)\n",
    "node2 = tf.constant(10.7, dtype = tf.float64)\n",
    "node3 = tf.add(node1, node2)\n",
    "node4 = tf.subtract(node1, node2)\n",
    "node5 = tf.multiply(node1, node2)\n",
    "node6 = tf.divide(node1, node2)\n",
    "node7 = tf.pow(node1, node2)\n",
    "node8 = tf.exp(node1)\n",
    "node9 = tf.square(node1)\n",
    "node10 = tf.matmul([[7]], [[2, 3, 4, 5]])\n",
    "node11 = tf.maximum(node1, node2)\n",
    "node12 = tf.minimum(node1, node2)"
   ]
  },
  {
   "cell_type": "code",
   "execution_count": 3,
   "id": "94f36027",
   "metadata": {},
   "outputs": [
    {
     "name": "stdout",
     "output_type": "stream",
     "text": [
      "Addition: 13.2\n",
      "Subtraction: -8.2\n",
      "Multiplication: 26.75\n",
      "Division: 0.23364485981308414\n",
      "Power: 18111.653159436544\n",
      "Exponentiation: 12.182493960703473\n",
      "Square: 6.25\n",
      "Matrix Multiplication: [[14 21 28 35]]\n",
      "Maximum: 10.7\n",
      "Minimum: 2.5\n"
     ]
    }
   ],
   "source": [
    "# run basic operations\n",
    "\n",
    "with tf.Session() as sess:  # open a session\n",
    "    result1 = sess.run(node3)\n",
    "    result2 = sess.run(node4)\n",
    "    result3 = sess.run(node5)\n",
    "    result4 = sess.run(node6)\n",
    "    result5 = sess.run(node7)\n",
    "    result6 = sess.run(node8)\n",
    "    result7 = sess.run(node9)\n",
    "    result8 = sess.run(node10)\n",
    "    result9 = sess.run(node11)\n",
    "    result10 = sess.run(node12)\n",
    "print(\"Addition:\", result1)\n",
    "print(\"Subtraction:\", result2)\n",
    "print(\"Multiplication:\", result3)\n",
    "print(\"Division:\", result4)\n",
    "print(\"Power:\", result5)\n",
    "print(\"Exponentiation:\", result6)\n",
    "print(\"Square:\", result7)\n",
    "print(\"Matrix Multiplication:\", result8)\n",
    "print(\"Maximum:\", result9)\n",
    "print(\"Minimum:\", result10)\n",
    "sess.close()"
   ]
  },
  {
   "cell_type": "code",
   "execution_count": 4,
   "id": "37e45838",
   "metadata": {},
   "outputs": [
    {
     "name": "stdout",
     "output_type": "stream",
     "text": [
      "Currrent value of var1: 2.35\n",
      "New value of var1: 100.0\n",
      "Result: 14.9695\n"
     ]
    }
   ],
   "source": [
    "# variable tensors and operations on it (there is no fixed value of tensor)\n",
    "\n",
    "var1 = tf.Variable(2.35, dtype = tf.float64, name = \"var1\")\n",
    "var2 = tf.Variable(6.37, dtype=tf.float64, name = \"var2\")\n",
    "var3 = tf.multiply(var1, var2)\n",
    "init = tf.global_variables_initializer() # initialize global variables\n",
    "with tf.Session() as sess:\n",
    "    sess.run(init)  # initialize variables in the current session\n",
    "    result = sess.run(var3)\n",
    "    print(\"Currrent value of var1:\", var1.eval())  # eval() evaluates the value of a variable\n",
    "    print(\"New value of var1:\", var1.assign(100).eval())  # assign new value to the variable\n",
    "print(\"Result:\", result)"
   ]
  },
  {
   "cell_type": "code",
   "execution_count": 5,
   "id": "74f26132",
   "metadata": {},
   "outputs": [
    {
     "name": "stdout",
     "output_type": "stream",
     "text": [
      "[2. 4. 6.]\n"
     ]
    }
   ],
   "source": [
    "# placeholder tensors and operations on it\n",
    "# placeholder tensors are used to feed new values to the variables inside a session\n",
    "# it is a special kind of variable. it allows us to create our operations \n",
    "# and build our computation graph, without needing the data\n",
    "\n",
    "x = tf.placeholder(\"float\", None)\n",
    "y = x * 2\n",
    "with tf.Session() as session:\n",
    "    result = session.run(y, feed_dict={x: [1, 2, 3]})  # feed_dict is used to feed the new values to the variable\n",
    "    print(result)"
   ]
  }
 ],
 "metadata": {
  "kernelspec": {
   "display_name": "Python 3",
   "language": "python",
   "name": "python3"
  },
  "language_info": {
   "codemirror_mode": {
    "name": "ipython",
    "version": 3
   },
   "file_extension": ".py",
   "mimetype": "text/x-python",
   "name": "python",
   "nbconvert_exporter": "python",
   "pygments_lexer": "ipython3",
   "version": "3.8.8"
  }
 },
 "nbformat": 4,
 "nbformat_minor": 5
}
